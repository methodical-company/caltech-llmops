{
  "cells": [
    {
      "cell_type": "markdown",
      "metadata": {
        "id": "_5rfduRD1CSF"
      },
      "source": [
        "# Caltech: Guide to fine-tune LLama Models\n",
        "\n",
        "This notebook is based off work found here:\n",
        "\n",
        "* https://github.com/tloen/alpaca-lora/\n",
        "* https://github.com/samlhuillier/code-llama-fine-tune-notebook/tree/main Thank you Sam!\n",
        "\n",
        "It has been modified for the Caltech class tought by Brian Ray brian@methodical.company\n",
        "\n",
        "\n"
      ]
    },
    {
      "cell_type": "markdown",
      "metadata": {
        "id": "HFQ9XeBI1CSG"
      },
      "source": [
        "### 1. Getting Setup with modules and data\n",
        "\n",
        "Following sections:\n",
        "\n",
        "1. Pip installs for packages\n",
        "2. Loading Libraries needed\n",
        "3. Loading Data\n",
        "4. Loading a Model\n"
      ]
    },
    {
      "cell_type": "code",
      "execution_count": null,
      "metadata": {
        "id": "Y0x4OWfq1CSG"
      },
      "outputs": [],
      "source": [
        "!pip install -U peft==0.13.2 bitsandbytes==0.44.1 datasets==3.0.1 wandb==0.18.5 scipy==1.13.1 google-cloud-secret-manager"
      ]
    },
    {
      "cell_type": "markdown",
      "metadata": {
        "id": "mCmGzYg51CSH"
      },
      "source": []
    },
    {
      "cell_type": "markdown",
      "metadata": {
        "id": "0mu9JczX1CSH"
      },
      "source": [
        "### Loading libraries\n"
      ]
    },
    {
      "cell_type": "code",
      "execution_count": null,
      "metadata": {
        "id": "oTeYW8z51CSH"
      },
      "outputs": [],
      "source": [
        "from datetime import datetime\n",
        "import sys\n",
        "\n",
        "import torch\n",
        "from peft import (\n",
        "    LoraConfig,\n",
        "    get_peft_model,\n",
        "    get_peft_model_state_dict,\n",
        "    prepare_model_for_kbit_training,\n",
        ")\n",
        "from transformers import AutoTokenizer, AutoModelForCausalLM, TrainingArguments, Trainer, DataCollatorForSeq2Seq, BitsAndBytesConfig\n"
      ]
    },
    {
      "cell_type": "markdown",
      "metadata": {
        "id": "32zH9-hM1CSH"
      },
      "source": [
        "(If you have import errors, try restarting your Jupyter kernel)\n"
      ]
    },
    {
      "cell_type": "markdown",
      "metadata": {
        "id": "-UHt4ZfWQQ9U"
      },
      "source": [
        "Checking of Cuda is available, which it should be"
      ]
    },
    {
      "cell_type": "code",
      "execution_count": null,
      "metadata": {
        "id": "g1Wb9jpQQQKR"
      },
      "outputs": [],
      "source": [
        "torch.cuda.is_available()"
      ]
    },
    {
      "cell_type": "markdown",
      "metadata": {
        "id": "Mo7GkmLbRRdF"
      },
      "source": [
        "Get the HF_TOKEN"
      ]
    },
    {
      "cell_type": "code",
      "execution_count": null,
      "metadata": {
        "id": "LXx0VHMkRRdG"
      },
      "outputs": [],
      "source": [
        "import os\n",
        "\n",
        "def get_env_secret(key):\n",
        "  try:\n",
        "    from google.colab import userdata\n",
        "  except:\n",
        "    class userdata:\n",
        "      get = lambda x: None\n",
        "      SecretNotFoundError = Exception\n",
        "  try:\n",
        "    userdata.get(key)\n",
        "  except userdata.SecretNotFoundError:\n",
        "    print(f\"{key} Token not found, looking in caltech class project\")\n",
        "    from google.cloud import secretmanager\n",
        "    import os\n",
        "    client = secretmanager.SecretManagerServiceClient()\n",
        "    response = client.access_secret_version(request={\"name\": f\"projects/240830225929/secrets/{key}/versions/1\"})\n",
        "    os.environ[key] = response.payload.data.decode(\"UTF-8\")\n",
        "    return True\n",
        "  except Exception as e:\n",
        "    print(f\"Error: {e}\")\n",
        "    return False\n",
        "\n",
        "get_env_secret(\"HF_TOKEN\")\n",
        "is_set = get_env_secret(\"WANDB_API_KEY\")\n",
        "\n",
        "if is_set:\n",
        "  report_to=\"use_wandb\"\n",
        "  os.environ[\"WANDB_PROJECT\"] = \"lab01_caltech\"\n",
        "else:\n",
        "  report_to=\"none\""
      ]
    },
    {
      "cell_type": "markdown",
      "metadata": {
        "id": "nvleOFeiRRdG"
      },
      "source": []
    },
    {
      "cell_type": "markdown",
      "metadata": {
        "id": "4M9KyT0S1CSH"
      },
      "source": [
        "\n",
        "### Load dataset\n",
        "\n",
        "You may get a message that Colab does now have access to secrets.\n",
        "\n",
        "You should grand it and make sure you have your HF_TOKEN set to what you obitained from setting up your Hugging Face account: https://huggingface.co/settings/tokens\n"
      ]
    },
    {
      "cell_type": "code",
      "execution_count": null,
      "metadata": {
        "id": "w44O1EK-1CSH"
      },
      "outputs": [],
      "source": [
        "from datasets import load_dataset\n",
        "dataset = load_dataset(\"b-mc2/sql-create-context\", split=\"train\")\n",
        "train_dataset = dataset.train_test_split(test_size=0.1)[\"train\"]\n",
        "eval_dataset = dataset.train_test_split(test_size=0.1)[\"test\"]"
      ]
    },
    {
      "cell_type": "markdown",
      "metadata": {
        "id": "fJ54EffO1CSI"
      },
      "source": [
        "The above pulls the dataset from the Huggingface Hub and splits 10% of it into an evaluation set to check how well the model is doing through training. If you want to load your own dataset do this:\n",
        "\n",
        "```\n",
        "train_dataset = load_dataset('json', data_files='train_set.jsonl', split='train')\n",
        "eval_dataset = load_dataset('json', data_files='validation_set.jsonl', split='train')\n",
        "```\n",
        "\n",
        "And if you want to view any samples in the dataset just do something like:``` ```\n"
      ]
    },
    {
      "cell_type": "code",
      "execution_count": null,
      "metadata": {
        "id": "fFbeaZzf1CSJ"
      },
      "outputs": [],
      "source": [
        "print(train_dataset[3])"
      ]
    },
    {
      "cell_type": "markdown",
      "metadata": {
        "id": "VHdMYcu61CSJ"
      },
      "source": [
        "Each entry is made up of a text 'question', the sql table 'context' and the 'answer'."
      ]
    },
    {
      "cell_type": "markdown",
      "metadata": {
        "id": "6ig7NvWN1CSJ"
      },
      "source": [
        "### 2. Load model\n",
        "I load code llama from huggingface in int8. Standard for Lora:"
      ]
    },
    {
      "cell_type": "code",
      "execution_count": null,
      "metadata": {
        "id": "rMnU93bY1CSJ"
      },
      "outputs": [],
      "source": [
        "base_model = \"motherduckdb/DuckDB-NSQL-7B-v0.1\"\n",
        "model = AutoModelForCausalLM.from_pretrained(\n",
        "    base_model,\n",
        "    quantization_config=BitsAndBytesConfig(load_in_8bit=True),\n",
        "    torch_dtype=torch.float16,\n",
        "    device_map=\"auto\",\n",
        ")\n",
        "tokenizer = AutoTokenizer.from_pretrained(\"motherduckdb/DuckDB-NSQL-7B-v0.1\")"
      ]
    },
    {
      "cell_type": "markdown",
      "metadata": {
        "id": "F3OF-wtj1CSJ"
      },
      "source": [
        "torch_dtype=torch.float16 means computations are performed using a float16 representation, even though the values themselves are 8 bit ints.\n",
        "\n",
        "If you get error \"ValueError: Tokenizer class CodeLlamaTokenizer does not exist or is not currently imported.\" Make sure you have transformers version is 4.33.0.dev0 and accelerate is >=0.20.3.\n"
      ]
    },
    {
      "cell_type": "markdown",
      "metadata": {
        "id": "_2VXqJJe1CSJ"
      },
      "source": [
        "### 3. Runing the Base Foundational Model model\n",
        "A very good common practice is to check whether a model can already do the task at hand. Fine-tuning is something you want to try to avoid at all cost:\n"
      ]
    },
    {
      "cell_type": "code",
      "execution_count": null,
      "metadata": {
        "id": "uiyAff1a1CSJ"
      },
      "outputs": [],
      "source": [
        "eval_prompt = \"\"\"You are a powerful text-to-SQL model. Your job is to answer questions about a database. You are given a question and context regarding one or more tables.\n",
        "\n",
        "You must output the SQL query that answers the question.\n",
        "### Input:\n",
        "Which Class has a Frequency MHz larger than 91.5, and a City of license of hyannis, nebraska?\n",
        "\n",
        "### Context:\n",
        "CREATE TABLE table_name_12 (class VARCHAR, frequency_mhz VARCHAR, city_of_license VARCHAR)\n",
        "\n",
        "### Response:\n",
        "\"\"\"\n",
        "# {'question': 'Name the comptroller for office of prohibition', 'context': 'CREATE TABLE table_22607062_1 (comptroller VARCHAR, ticket___office VARCHAR)', 'answer': 'SELECT comptroller FROM table_22607062_1 WHERE ticket___office = \"Prohibition\"'}\n",
        "model_input = tokenizer(eval_prompt, return_tensors=\"pt\").to(\"cuda\")\n",
        "\n",
        "model.eval()\n",
        "with torch.no_grad():\n",
        "    print(tokenizer.decode(model.generate(**model_input, max_new_tokens=100)[0], skip_special_tokens=True))"
      ]
    },
    {
      "cell_type": "markdown",
      "metadata": {
        "id": "544rmsdU1CSJ"
      },
      "source": [
        "I get the output:\n",
        "```\n",
        " SELECT class FROM table_name_12 WHERE frequency_mhz > 91.5 AND city_of_license = \"hyannis, nebraska\"\n",
        "```\n",
        "which is correct."
      ]
    },
    {
      "cell_type": "markdown",
      "metadata": {
        "id": "I6IcTOCq1CSU"
      },
      "source": [
        "For questions please contact brian@methodical.company or the original author https://twitter.com/samlhuillier_ for the original code found here https://github.com/samlhuillier/code-llama-fine-tune-notebook\n"
      ]
    }
  ],
  "metadata": {
    "accelerator": "GPU",
    "colab": {
      "gpuType": "T4",
      "name": "Lab01_clean.ipynb",
      "provenance": []
    },
    "kernelspec": {
      "display_name": "Python 3",
      "name": "python3"
    },
    "language_info": {
      "codemirror_mode": {
        "name": "ipython",
        "version": 3
      },
      "file_extension": ".py",
      "mimetype": "text/x-python",
      "name": "python",
      "nbconvert_exporter": "python",
      "pygments_lexer": "ipython3",
      "version": "3.10.12"
    },
    "orig_nbformat": 4
  },
  "nbformat": 4,
  "nbformat_minor": 0
}