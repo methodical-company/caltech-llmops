{
  "cells": [
    {
      "cell_type": "markdown",
      "metadata": {
        "id": "_5rfduRD1CSF"
      },
      "source": [
        "# Caltech: Guide to fine-tune LLama Models\n",
        "\n",
        "This notebook is based off work found here:\n",
        "\n",
        "* https://github.com/tloen/alpaca-lora/\n",
        "* https://github.com/samlhuillier/code-llama-fine-tune-notebook/tree/main Thank you Sam!\n",
        "\n",
        "It has been modified for the Caltech class tought by Brian Ray brian@methodical.company\n",
        "\n",
        "\n"
      ]
    },
    {
      "cell_type": "markdown",
      "metadata": {
        "id": "HFQ9XeBI1CSG"
      },
      "source": [
        "### 1. Getting Setup with modules and data\n",
        "\n",
        "Following sections:\n",
        "\n",
        "1. Pip installs for packages\n",
        "2. Loading Libraries needed\n",
        "3. Loading Data\n",
        "4. Loading a Model\n"
      ]
    },
    {
      "cell_type": "code",
      "execution_count": null,
      "metadata": {
        "id": "Y0x4OWfq1CSG"
      },
      "outputs": [],
      "source": [
        "!pip install -q peft==0.13.2 bitsandbytes==0.44.1 datasets==3.0.1 wandb==0.18.5 scipy==1.13.1 google-cloud-secret-manager"
      ]
    },
    {
      "cell_type": "markdown",
      "metadata": {
        "id": "mCmGzYg51CSH"
      },
      "source": []
    },
    {
      "cell_type": "markdown",
      "metadata": {
        "id": "0mu9JczX1CSH"
      },
      "source": [
        "### Loading libraries\n"
      ]
    },
    {
      "cell_type": "code",
      "execution_count": null,
      "metadata": {
        "id": "oTeYW8z51CSH"
      },
      "outputs": [],
      "source": [
        "from datetime import datetime\n",
        "import sys\n",
        "\n",
        "import torch\n",
        "from peft import (\n",
        "    LoraConfig,\n",
        "    get_peft_model,\n",
        "    get_peft_model_state_dict,\n",
        "    prepare_model_for_kbit_training,\n",
        ")\n",
        "from transformers import AutoTokenizer, AutoModelForCausalLM, TrainingArguments, Trainer, DataCollatorForSeq2Seq, BitsAndBytesConfig\n"
      ]
    },
    {
      "cell_type": "markdown",
      "metadata": {
        "id": "32zH9-hM1CSH"
      },
      "source": [
        "(If you have import errors, try restarting your Jupyter kernel)\n"
      ]
    },
    {
      "cell_type": "markdown",
      "metadata": {
        "id": "-UHt4ZfWQQ9U"
      },
      "source": [
        "Checking of Cuda is available, which it should be"
      ]
    },
    {
      "cell_type": "code",
      "execution_count": null,
      "metadata": {
        "id": "g1Wb9jpQQQKR"
      },
      "outputs": [],
      "source": [
        "torch.cuda.is_available()"
      ]
    },
    {
      "cell_type": "markdown",
      "metadata": {
        "id": "Mo7GkmLbRRdF"
      },
      "source": [
        "### Helper Functions"
      ]
    },
    {
      "cell_type": "code",
      "execution_count": null,
      "metadata": {
        "id": "LXx0VHMkRRdG"
      },
      "outputs": [],
      "source": [
        "import os\n",
        "import glob\n",
        "from google.cloud import storage\n",
        "\n",
        "\n",
        "def get_env_secret(key):\n",
        "  try:\n",
        "    from google.colab import userdata\n",
        "  except:\n",
        "    class userdata:\n",
        "      get = lambda x: None\n",
        "      SecretNotFoundError = Exception\n",
        "  try:\n",
        "    userdata.get(key)\n",
        "  except userdata.SecretNotFoundError:\n",
        "    print(f\"{key} Token not found, looking in caltech class project\")\n",
        "    from google.cloud import secretmanager\n",
        "    import os\n",
        "    client = secretmanager.SecretManagerServiceClient()\n",
        "    response = client.access_secret_version(request={\"name\": f\"projects/240830225929/secrets/{key}/versions/1\"})\n",
        "    os.environ[key] = response.payload.data.decode(\"UTF-8\")\n",
        "    return True\n",
        "  except Exception as e:\n",
        "    print(f\"Error: {e}\")\n",
        "    return False\n",
        "\n",
        "def save_model(model, localdir, destination_sub_path=\"/\"):\n",
        "  model.save_pretrained(localdir)\n",
        "  save_checkpoints(local_directory=localdir,\n",
        "                   destination_sub_path=destination_sub_path)\n",
        "  print(f\"Model saved to default cloud bucket\")\n",
        "\n",
        "\n",
        "# Upload files to the subdirectory in the GCS bucket\n",
        "def upload_files_to_gcs(bucket, subdirectory_path, local_file_path, destination_file_name):\n",
        "    \"\"\"Uploads a file to the GCS bucket.\"\"\"\n",
        "    blob = bucket.blob(subdirectory_path + destination_file_name)\n",
        "    blob.upload_from_filename(local_file_path)\n",
        "    print(f\"File {local_file_path} uploaded to {subdirectory_path + destination_file_name}.\")\n",
        "\n",
        "\n",
        "def save_checkpoints(bucket_name='caltech-class',\n",
        "                     local_directory = \"./sql-code-llama/\",\n",
        "                     destination_sub_path=\"Lab01\"):\n",
        "    # Create a Cloud Storage client\n",
        "    client = storage.Client()\n",
        "\n",
        "    # Define the bucket name and the base path\n",
        "    bucket = client.get_bucket(bucket_name)\n",
        "\n",
        "    # Get the current username\n",
        "    username = !gcloud config get-value account\n",
        "    username = username[0]\n",
        "\n",
        "    # Define the directory path within the bucket\n",
        "    subdirectory_path = f\"{username}/{destination_sub_path}/\"\n",
        "\n",
        "    # Use glob to recursively find all files in the directory and its subdirectories\n",
        "    files_to_upload = glob.glob(os.path.join(local_directory, '**', '*'), recursive=True)\n",
        "\n",
        "    # Upload each file found by glob\n",
        "    for file_path in files_to_upload:\n",
        "        if os.path.isfile(file_path):  # Only upload if it's a file, not a directory\n",
        "            # Maintain relative paths for files in subdirectories\n",
        "            relative_path = os.path.relpath(file_path, local_directory)\n",
        "            destination_filename = os.path.join(relative_path)\n",
        "\n",
        "            # Upload the file to GCS\n",
        "            upload_files_to_gcs(bucket,\n",
        "                                subdirectory_path,\n",
        "                                file_path,\n",
        "                                destination_filename)\n",
        "\n"
      ]
    },
    {
      "cell_type": "markdown",
      "source": [
        "Get Envirment variables"
      ],
      "metadata": {
        "id": "eLDr857rKM0f"
      }
    },
    {
      "cell_type": "code",
      "source": [
        "get_env_secret(\"HF_TOKEN\")\n",
        "is_set = get_env_secret(\"WANDB_API_KEY\")\n",
        "\n",
        "if is_set:\n",
        "  report_to=\"use_wandb\"\n",
        "  os.environ[\"WANDB_PROJECT\"] = \"lab01_caltech\"\n",
        "else:\n",
        "  report_to=\"none\""
      ],
      "metadata": {
        "id": "yCI7ZPp8KLXz"
      },
      "execution_count": null,
      "outputs": []
    },
    {
      "cell_type": "markdown",
      "metadata": {
        "id": "nvleOFeiRRdG"
      },
      "source": []
    },
    {
      "cell_type": "markdown",
      "metadata": {
        "id": "4M9KyT0S1CSH"
      },
      "source": [
        "\n",
        "### Load dataset\n",
        "\n",
        "You may get a message that Colab does now have access to secrets.\n",
        "\n",
        "You should grand it and make sure you have your HF_TOKEN set to what you obitained from setting up your Hugging Face account: https://huggingface.co/settings/tokens\n"
      ]
    },
    {
      "cell_type": "code",
      "execution_count": null,
      "metadata": {
        "id": "w44O1EK-1CSH"
      },
      "outputs": [],
      "source": [
        "from datasets import load_dataset\n",
        "dataset = load_dataset(\"b-mc2/sql-create-context\", split=\"train\")\n",
        "train_dataset = dataset.train_test_split(test_size=0.1)[\"train\"]\n",
        "eval_dataset = dataset.train_test_split(test_size=0.1)[\"test\"]"
      ]
    },
    {
      "cell_type": "markdown",
      "metadata": {
        "id": "fJ54EffO1CSI"
      },
      "source": [
        "The above pulls the dataset from the Huggingface Hub and splits 10% of it into an evaluation set to check how well the model is doing through training. If you want to load your own dataset do this:\n",
        "\n",
        "```\n",
        "train_dataset = load_dataset('json', data_files='train_set.jsonl', split='train')\n",
        "eval_dataset = load_dataset('json', data_files='validation_set.jsonl', split='train')\n",
        "```\n",
        "\n",
        "And if you want to view any samples in the dataset just do something like:``` ```\n"
      ]
    },
    {
      "cell_type": "code",
      "execution_count": null,
      "metadata": {
        "id": "fFbeaZzf1CSJ"
      },
      "outputs": [],
      "source": [
        "print(train_dataset[3])"
      ]
    },
    {
      "cell_type": "markdown",
      "metadata": {
        "id": "VHdMYcu61CSJ"
      },
      "source": [
        "Each entry is made up of a text 'question', the sql table 'context' and the 'answer'."
      ]
    },
    {
      "cell_type": "markdown",
      "metadata": {
        "id": "6ig7NvWN1CSJ"
      },
      "source": [
        "### 2. Load model\n",
        "I load code llama from huggingface in int8. Standard for Lora:"
      ]
    },
    {
      "cell_type": "code",
      "execution_count": null,
      "metadata": {
        "id": "rMnU93bY1CSJ"
      },
      "outputs": [],
      "source": [
        "base_model = \"codellama/CodeLlama-7b-hf\"\n",
        "model = AutoModelForCausalLM.from_pretrained(\n",
        "    base_model,\n",
        "    quantization_config=BitsAndBytesConfig(load_in_8bit=True),\n",
        "    torch_dtype=torch.float16,\n",
        "    device_map=\"auto\",\n",
        ")\n",
        "tokenizer = AutoTokenizer.from_pretrained(\"codellama/CodeLlama-7b-hf\")"
      ]
    },
    {
      "cell_type": "code",
      "source": [
        "save_model(model, \"Lab01A\", destination_sub_path=\"Lab01/pretrained_model_A\")"
      ],
      "metadata": {
        "id": "5v4a6uinLsJf"
      },
      "execution_count": null,
      "outputs": []
    },
    {
      "cell_type": "markdown",
      "metadata": {
        "id": "F3OF-wtj1CSJ"
      },
      "source": [
        "torch_dtype=torch.float16 means computations are performed using a float16 representation, even though the values themselves are 8 bit ints.\n",
        "\n",
        "If you get error \"ValueError: Tokenizer class CodeLlamaTokenizer does not exist or is not currently imported.\" Make sure you have transformers version is 4.33.0.dev0 and accelerate is >=0.20.3.\n"
      ]
    },
    {
      "cell_type": "markdown",
      "metadata": {
        "id": "_2VXqJJe1CSJ"
      },
      "source": [
        "### 3. Runing the Base Foundational Model model\n",
        "A very good common practice is to check whether a model can already do the task at hand. Fine-tuning is something you want to try to avoid at all cost:\n"
      ]
    },
    {
      "cell_type": "code",
      "execution_count": null,
      "metadata": {
        "id": "uiyAff1a1CSJ"
      },
      "outputs": [],
      "source": [
        "eval_prompt = \"\"\"You are a powerful text-to-SQL model. Your job is to answer questions about a database. You are given a question and context regarding one or more tables.\n",
        "\n",
        "You must output the SQL query that answers the question.\n",
        "### Input:\n",
        "Which Class has a Frequency MHz larger than 91.5, and a City of license of hyannis, nebraska?\n",
        "\n",
        "### Context:\n",
        "CREATE TABLE table_name_12 (class VARCHAR, frequency_mhz VARCHAR, city_of_license VARCHAR)\n",
        "\n",
        "### Response:\n",
        "\"\"\"\n",
        "# {'question': 'Name the comptroller for office of prohibition', 'context': 'CREATE TABLE table_22607062_1 (comptroller VARCHAR, ticket___office VARCHAR)', 'answer': 'SELECT comptroller FROM table_22607062_1 WHERE ticket___office = \"Prohibition\"'}\n",
        "model_input = tokenizer(eval_prompt, return_tensors=\"pt\").to(\"cuda\")\n",
        "\n",
        "model.eval()\n",
        "with torch.no_grad():\n",
        "    print(tokenizer.decode(model.generate(**model_input, max_new_tokens=100)[0], skip_special_tokens=True))"
      ]
    },
    {
      "cell_type": "markdown",
      "metadata": {
        "id": "544rmsdU1CSJ"
      },
      "source": [
        "I get the output:\n",
        "```\n",
        "SELECT * FROM table_name_12 WHERE class > 91.5 AND city_of_license = 'hyannis, nebraska'\n",
        "```\n",
        "which is clearly wrong if the input is asking for just class!"
      ]
    },
    {
      "cell_type": "markdown",
      "metadata": {
        "id": "puuOXL2R1CSJ"
      },
      "source": [
        "### 4. Tokenization\n",
        "Setup some tokenization settings like left padding because it makes [training use less memory](https://ai.stackexchange.com/questions/41485/while-fine-tuning-a-decoder-only-llm-like-llama-on-chat-dataset-what-kind-of-pa):"
      ]
    },
    {
      "cell_type": "code",
      "execution_count": null,
      "metadata": {
        "id": "c1P0mphA1CSJ"
      },
      "outputs": [],
      "source": [
        "tokenizer.add_eos_token = True\n",
        "tokenizer.pad_token_id = 0\n",
        "tokenizer.padding_side = \"left\""
      ]
    },
    {
      "cell_type": "markdown",
      "metadata": {
        "id": "kpo66hMo1CSJ"
      },
      "source": [
        "Setup the tokenize function to make labels and input_ids the same. This is basically what [self-supervised fine-tuning](https://neptune.ai/blog/self-supervised-learning) is:"
      ]
    },
    {
      "cell_type": "code",
      "execution_count": null,
      "metadata": {
        "id": "gjSerml71CSJ"
      },
      "outputs": [],
      "source": [
        "def tokenize(prompt):\n",
        "    result = tokenizer(\n",
        "        prompt,\n",
        "        truncation=True,\n",
        "        max_length=512,\n",
        "        padding=False,\n",
        "        return_tensors=None,\n",
        "    )\n",
        "\n",
        "    # \"self-supervised learning\" means the labels are also the inputs:\n",
        "    result[\"labels\"] = result[\"input_ids\"].copy()\n",
        "\n",
        "    return result"
      ]
    },
    {
      "cell_type": "markdown",
      "metadata": {
        "id": "fNk_3THv1CSK"
      },
      "source": [
        "And run convert each data_point into a prompt that I found online that works quite well:"
      ]
    },
    {
      "cell_type": "code",
      "execution_count": null,
      "metadata": {
        "id": "MvO7A-ZF1CSK"
      },
      "outputs": [],
      "source": [
        "def generate_and_tokenize_prompt(data_point):\n",
        "    full_prompt =f\"\"\"You are a powerful text-to-SQL model. Your job is to answer questions about a database. You are given a question and context regarding one or more tables.\n",
        "\n",
        "You must output the SQL query that answers the question.\n",
        "\n",
        "### Input:\n",
        "{data_point[\"question\"]}\n",
        "\n",
        "### Context:\n",
        "{data_point[\"context\"]}\n",
        "\n",
        "### Response:\n",
        "{data_point[\"answer\"]}\n",
        "\"\"\"\n",
        "    return tokenize(full_prompt)"
      ]
    },
    {
      "cell_type": "markdown",
      "metadata": {
        "id": "sLvwo-ax1CSK"
      },
      "source": [
        "Reformat to prompt and tokenize each sample:"
      ]
    },
    {
      "cell_type": "code",
      "execution_count": null,
      "metadata": {
        "id": "SA2BqSzW1CSK"
      },
      "outputs": [],
      "source": [
        "tokenized_train_dataset = train_dataset.map(generate_and_tokenize_prompt)\n",
        "tokenized_val_dataset = eval_dataset.map(generate_and_tokenize_prompt)"
      ]
    },
    {
      "cell_type": "markdown",
      "metadata": {
        "id": "Z5ByhitV1CSK"
      },
      "source": [
        "### 5. Setup Lora"
      ]
    },
    {
      "cell_type": "code",
      "execution_count": null,
      "metadata": {
        "id": "9q_26pz71CSK"
      },
      "outputs": [],
      "source": [
        "model.train() # put model back into training mode\n",
        "model = prepare_model_for_kbit_training(model)\n",
        "\n",
        "config = LoraConfig(\n",
        "    r=16,\n",
        "    lora_alpha=16,\n",
        "    target_modules=[\n",
        "    \"q_proj\",\n",
        "    \"k_proj\",\n",
        "    \"v_proj\",\n",
        "    \"o_proj\",\n",
        "],\n",
        "    lora_dropout=0.05,\n",
        "    bias=\"none\",\n",
        "    task_type=\"CAUSAL_LM\",\n",
        ")\n",
        "model = get_peft_model(model, config)"
      ]
    },
    {
      "cell_type": "code",
      "execution_count": null,
      "metadata": {
        "id": "5iv4txxu1CSK"
      },
      "outputs": [],
      "source": [
        "if torch.cuda.device_count() > 1:\n",
        "    print(f\"multi cuda devices #{torch.cuda.device_count()}\")\n",
        "    # keeps Trainer from trying its own DataParallelism when more than 1 gpu is available\n",
        "    model.is_parallelizable = True\n",
        "    model.model_parallel = True"
      ]
    },
    {
      "cell_type": "markdown",
      "metadata": {
        "id": "pYSsnciQ1CSK"
      },
      "source": [
        "### 6. Training arguments\n",
        "If you run out of GPU memory, change per_device_train_batch_size. The gradient_accumulation_steps variable should ensure this doesn't affect batch dynamics during the training run. All the other variables are standard stuff that I wouldn't recommend messing with:"
      ]
    },
    {
      "cell_type": "markdown",
      "metadata": {
        "id": "v7-Z8NJeWRWU"
      },
      "source": []
    },
    {
      "cell_type": "code",
      "execution_count": null,
      "metadata": {
        "id": "uvEi1kP21CSK"
      },
      "outputs": [],
      "source": [
        "# Adjust batch size to maximize GPU utilization\n",
        "batch_size = 128  # Increased batch size if memory allows\n",
        "per_device_train_batch_size = 32  # Adjust based on GPU memory\n",
        "gradient_accumulation_steps = batch_size // per_device_train_batch_size\n",
        "output_dir = \"sql-code-llama\"\n",
        "max_steps = 80  # Adjust this if needed\n",
        "\n",
        "training_args = TrainingArguments(\n",
        "    per_device_train_batch_size=per_device_train_batch_size,\n",
        "    gradient_accumulation_steps=gradient_accumulation_steps,\n",
        "    warmup_steps=0,\n",
        "    max_steps=max_steps,\n",
        "    learning_rate=3e-4,\n",
        "    fp16=True,  # Keep mixed precision for faster training\n",
        "    bf16=False,  # Set to True only if hardware supports bf16 (e.g., A100 GPUs)\n",
        "    logging_steps=20,  # Increase logging steps to reduce logging overhead\n",
        "    optim=\"adamw_torch\",  # Optionally, use 8-bit Adam optimizer for speed/memory efficiency\n",
        "    evaluation_strategy=\"steps\",  # Keep evaluation every few steps\n",
        "    eval_steps=40,  # Reduce evaluation frequency\n",
        "    save_strategy=\"steps\",\n",
        "    save_steps=40,  # Reduce saving frequency\n",
        "    output_dir=output_dir,\n",
        "    group_by_length=True,  # Keep sequences of similar length for efficiency\n",
        "    report_to=\"none\",  # Remove reporting to external loggers for faster training\n",
        "    run_name=f\"codellama-{datetime.now().strftime('%Y-%m-%d-%H-%M')}\",\n",
        "    gradient_checkpointing=False,  # Disable gradient checkpointing for faster training (if memory allows)\n",
        "    dataloader_num_workers=4,  # Increase workers to improve data loading speed\n",
        "    ddp_find_unused_parameters=False,  # Enable for distributed multi-GPU training, if using multiple GPUs\n",
        ")\n",
        "\n",
        "trainer = Trainer(\n",
        "    model=model,\n",
        "    train_dataset=tokenized_train_dataset,\n",
        "    eval_dataset=tokenized_val_dataset,\n",
        "    args=training_args,\n",
        "    data_collator=DataCollatorForSeq2Seq(\n",
        "        tokenizer, pad_to_multiple_of=8, return_tensors=\"pt\", padding=True\n",
        "    ),\n",
        ")\n"
      ]
    },
    {
      "cell_type": "markdown",
      "metadata": {
        "id": "1aJp6Jxl1CSK"
      },
      "source": [
        "Then we do some pytorch-related optimisation (which just make training faster but don't affect accuracy):"
      ]
    },
    {
      "cell_type": "code",
      "execution_count": null,
      "metadata": {
        "id": "6ycCHZZl1CSK"
      },
      "outputs": [],
      "source": [
        "model.config.use_cache = False\n",
        "\n",
        "old_state_dict = model.state_dict\n",
        "model.state_dict = (lambda self, *_, **__: get_peft_model_state_dict(self, old_state_dict())).__get__(\n",
        "    model, type(model)\n",
        ")\n",
        "if torch.__version__ >= \"2\" and sys.platform != \"win32\":\n",
        "    print(\"compiling the model\")\n",
        "    model = torch.compile(model)"
      ]
    },
    {
      "cell_type": "markdown",
      "metadata": {
        "id": "jGsqOfF-RRdK"
      },
      "source": [
        "### 7. Execute the Training Job\n",
        "\n",
        "\n",
        "The below will take 1hr or more. While this is running you can move on to the next Lab."
      ]
    },
    {
      "cell_type": "code",
      "execution_count": null,
      "metadata": {
        "id": "bF5oWKxK1CSL"
      },
      "outputs": [],
      "source": [
        "trainer.train()"
      ]
    },
    {
      "cell_type": "markdown",
      "metadata": {
        "id": "gSMtThNHRRdK"
      },
      "source": [
        "## 8. Save Place and Go\n",
        "\n",
        "This saves the checkpoints to GCS. then go to the test_notebook to test\n"
      ]
    },
    {
      "cell_type": "code",
      "execution_count": null,
      "metadata": {
        "id": "RE6PWQ89RRdK"
      },
      "outputs": [],
      "source": [
        "save_checkpoints()"
      ]
    },
    {
      "cell_type": "markdown",
      "metadata": {
        "id": "I6IcTOCq1CSU"
      },
      "source": [
        "For questions please contact brian@methodical.company or the original author https://twitter.com/samlhuillier_ for the original code found here https://github.com/samlhuillier/code-llama-fine-tune-notebook\n"
      ]
    }
  ],
  "metadata": {
    "accelerator": "GPU",
    "colab": {
      "gpuType": "T4",
      "name": "Lab01_Step1.ipynb",
      "provenance": []
    },
    "kernelspec": {
      "display_name": "Python 3",
      "name": "python3"
    },
    "language_info": {
      "codemirror_mode": {
        "name": "ipython",
        "version": 3
      },
      "file_extension": ".py",
      "mimetype": "text/x-python",
      "name": "python",
      "nbconvert_exporter": "python",
      "pygments_lexer": "ipython3",
      "version": "3.10.12"
    },
    "orig_nbformat": 4
  },
  "nbformat": 4,
  "nbformat_minor": 0
}
