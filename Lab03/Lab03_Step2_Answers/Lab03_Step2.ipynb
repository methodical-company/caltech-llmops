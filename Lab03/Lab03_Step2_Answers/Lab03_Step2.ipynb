{
  "cells": [
    {
      "cell_type": "markdown",
      "metadata": {
        "id": "SBUJzBL_PPP3"
      },
      "source": [
        "# Lab 03 Step 2\n",
        "\n",
        "Build a custom deployment using GCP CloudRun.\n",
        "\n",
        "Inspired by https://cloud.google.com/run/docs/quickstarts/build-and-deploy/deploy-python-service\n",
        "\n"
      ]
    },
    {
      "cell_type": "code",
      "execution_count": null,
      "metadata": {
        "id": "L3CBr1g5PPP6"
      },
      "outputs": [],
      "source": [
        "%%writefile deploy.sh\n",
        "gcloud init --skip-diagnostics\n",
        "gcloud config set project caltech-439204\n",
        "gcloud config set compute/region us-central1\n",
        "export NAME=\"lab03-2-`gcloud config get-value account | tr -cd 'a-z0-9' |  cut -c1-63`\"\n",
        "gcloud services enable run.googleapis.com \\\n",
        "    cloudbuild.googleapis.com\n",
        "gcloud projects add-iam-policy-binding caltech-439204 \\\n",
        "    --member=serviceAccount:240830225929-compute@developer.gserviceaccount.com \\\n",
        "    --role=roles/cloudbuild.builds.builder\n",
        "gcloud run deploy $NAME --source .\n"
      ]
    },
    {
      "cell_type": "markdown",
      "source": [
        "1. Hit the Terminal Icon. ![terminal.png](data:image/png;base64,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)"
      ],
      "metadata": {
        "id": "NyiKFo0bP_qn"
      }
    },
    {
      "cell_type": "markdown",
      "source": [
        "2. bash deploy.sh"
      ],
      "metadata": {
        "id": "n2mSIXjWQ-D8"
      }
    },
    {
      "cell_type": "markdown",
      "metadata": {
        "id": "HrEp13LwPPP8"
      },
      "source": [
        "3. see the answers below\n",
        "\n",
        "Run `% ./deploy.sh` to deploy the application. See my answers below for the configuration of gcloud.\n",
        "\n",
        "```\n",
        "\n",
        "Welcome! This command will take you through the configuration of gcloud.\n",
        "\n",
        "Settings from your current configuration [default] are:\n",
        "core:\n",
        "  disable_usage_reporting: 'False'\n",
        "\n",
        "Pick configuration to use:\n",
        " [1] Re-initialize this configuration [default] with new settings\n",
        " [2] Create a new configuration\n",
        "Please enter your numeric choice:  1\n",
        "\n",
        "Your current configuration has been set to: [default]\n",
        "\n",
        "Choose the account you would like to use to perform operations for this configuration:\n",
        " [1] brian.ray@mavenwave.com\n",
        " [2] brian@methodical.company\n",
        " [3] promptly-dev@methodical-promptly.iam.gserviceaccount.com\n",
        " [4] Log in with a new account\n",
        "Please enter your numeric choice:  2\n",
        "\n",
        "You are logged in as: [brian@methodical.company].\n",
        "\n",
        "Pick cloud project to use:\n",
        " [1] caltech-439204\n",
        " [2] methodical-prod\n",
        " [3] methodical-dev\n",
        " [4] methodical-staging\n",
        " [5] methodical-qa\n",
        " [6] Enter a project ID\n",
        " [7] Create a new project\n",
        "\n",
        "Please enter numeric choice or text value (must exactly match list item):  1\n",
        "\n",
        "Your current project has been set to: [caltech-439204].\n",
        "\n",
        "Do you want to configure a default Compute Region and Zone? (Y/n)?  \n",
        "\n",
        "Which Google Compute Engine zone would you like to use as project default?\n",
        "If you do not specify a zone via a command line flag while working with Compute Engine resources, the default is assumed.\n",
        " [1] us-east1-b\n",
        " [2] us-east1-c\n",
        " [3] us-east1-d\n",
        " [4] us-east4-c\n",
        " [5] us-east4-b\n",
        " [6] us-east4-a\n",
        " [7] us-central1-c\n",
        " [8] us-central1-a\n",
        " [9] us-central1-f\n",
        " [10] us-central1-b\n",
        " [11] us-west1-b\n",
        " [12] us-west1-c\n",
        " [13] us-west1-a\n",
        "\n",
        "Please enter numeric choice or text value (must exactly match list item):  7\n",
        "\n",
        "Your project default Compute Engine zone has been set to [us-central1-c].\n",
        "You can change it by running [gcloud config set compute/zone NAME].\n",
        "\n",
        "Your project default Compute Engine region has been set to [us-central1].\n",
        "You can change it by running [gcloud config set compute/region NAME].\n",
        "\n",
        "Your Google Cloud SDK is configured and ready to use!\n",
        "\n",
        "* Commands that require authentication will use brian@methodical.company by default\n",
        "* Commands will reference project `caltech-439204` by default\n",
        "* Compute Engine commands will use region `us-central1` by default\n",
        "* Compute Engine commands will use zone `us-central1-c` by default\n",
        "\n",
        "Run `gcloud help config` to learn how to change individual settings\n",
        "\n",
        "This gcloud configuration is called [default]. You can create additional configurations if you work with multiple accounts and/or projects.\n",
        "Run `gcloud topic configurations` to learn more.\n",
        "\n",
        "Some things to try next:\n",
        "\n",
        "* Run `gcloud --help` to see the Cloud Platform services you can interact with. And run `gcloud help COMMAND` to get help on any gcloud command.\n",
        "* Run `gcloud topic --help` to learn about advanced features of the SDK like arg files and output formatting\n",
        "* Run `gcloud cheat-sheet` to see a roster of go-to `gcloud` commands.\n",
        "Updated property [core/project].\n",
        "Updated property [compute/region].\n",
        "Operation \"operations/acat.p2-240830225929-dbcb1dad-99b6-4a0b-b618-83a81aa5d2ba\" finished successfully.\n",
        "Updated IAM policy for project [caltech-439204].\n",
        "bindings:\n",
        "- members:\n",
        "  - serviceAccount:caltech@caltech-439204.iam.gserviceaccount.com\n",
        "  - user:brianhray@gmail.com\n",
        "  role: roles/aiplatform.admin\n",
        "- members:\n",
        "  - user:brian@methodical.company\n",
        "  role: roles/aiplatform.colabEnterpriseAdmin\n",
        "- members:\n",
        "  - user:brianhray@gmail.com\n",
        "  role: roles/aiplatform.colabEnterpriseUser\n",
        "- members:\n",
        "  - serviceAccount:service-240830225929@gcp-sa-aiplatform-cc.iam.gserviceaccount.com\n",
        "  role: roles/aiplatform.customCodeServiceAgent\n",
        "- members:\n",
        "  - serviceAccount:service-240830225929@gcp-sa-aiplatform-vm.iam.gserviceaccount.com\n",
        "  role: roles/aiplatform.notebookServiceAgent\n",
        "- members:\n",
        "  - serviceAccount:service-240830225929@gcp-sa-vertex-op.iam.gserviceaccount.com\n",
        "  role: roles/aiplatform.onlinePredictionServiceAgent\n",
        "- members:\n",
        "  - serviceAccount:service-240830225929@gcp-sa-aiplatform.iam.gserviceaccount.com\n",
        "  role: roles/aiplatform.serviceAgent\n",
        "- members:\n",
        "  - serviceAccount:240830225929-compute@developer.gserviceaccount.com\n",
        "  - serviceAccount:caltech@caltech-439204.iam.gserviceaccount.com\n",
        "  role: roles/aiplatform.user\n",
        "- members:\n",
        "  - serviceAccount:service-240830225929@gcp-sa-artifactregistry.iam.gserviceaccount.com\n",
        "  role: roles/artifactregistry.serviceAgent\n",
        "- members:\n",
        "  - serviceAccount:240830225929-compute@developer.gserviceaccount.com\n",
        "  - serviceAccount:240830225929@cloudbuild.gserviceaccount.com\n",
        "  role: roles/cloudbuild.builds.builder\n",
        "- members:\n",
        "  - serviceAccount:service-240830225929@gcp-sa-cloudbuild.iam.gserviceaccount.com\n",
        "  role: roles/cloudbuild.serviceAgent\n",
        "- members:\n",
        "  - serviceAccount:service-240830225929@compute-system.iam.gserviceaccount.com\n",
        "  role: roles/compute.serviceAgent\n",
        "- members:\n",
        "  - serviceAccount:service-240830225929@containerregistry.iam.gserviceaccount.com\n",
        "  role: roles/containerregistry.ServiceAgent\n",
        "- members:\n",
        "  - serviceAccount:service-240830225929@gcp-sa-dataform.iam.gserviceaccount.com\n",
        "  role: roles/dataform.serviceAgent\n",
        "- members:\n",
        "  - serviceAccount:240830225929-compute@developer.gserviceaccount.com\n",
        "  - serviceAccount:240830225929@cloudservices.gserviceaccount.com\n",
        "  role: roles/editor\n",
        "- members:\n",
        "  - user:brianhray@gmail.com\n",
        "  role: roles/iam.serviceAccountUser\n",
        "- members:\n",
        "  - user:brian@methodical.company\n",
        "  role: roles/owner\n",
        "- members:\n",
        "  - serviceAccount:service-240830225929@gcp-sa-pubsub.iam.gserviceaccount.com\n",
        "  role: roles/pubsub.serviceAgent\n",
        "- members:\n",
        "  - serviceAccount:service-240830225929@serverless-robot-prod.iam.gserviceaccount.com\n",
        "  role: roles/run.serviceAgent\n",
        "- members:\n",
        "  - serviceAccount:caltech@caltech-439204.iam.gserviceaccount.com\n",
        "  - user:brian@methodical.company\n",
        "  - user:brianhray@gmail.com\n",
        "  role: roles/secretmanager.secretAccessor\n",
        "- members:\n",
        "  - serviceAccount:240830225929-compute@developer.gserviceaccount.com\n",
        "  - serviceAccount:caltech@caltech-439204.iam.gserviceaccount.com\n",
        "  - user:brian@methodical.company\n",
        "  - user:brianhray@gmail.com\n",
        "  role: roles/storage.admin\n",
        "etag: BwYlLxNI4go=\n",
        "version: 1\n",
        "Please specify a region:\n",
        " [32] us-central1\n",
        " [33] us-east1\n",
        " [34] us-east4\n",
        " [35] us-east5\n",
        " [36] us-south1\n",
        " [37] us-west1\n",
        " [38] us-west2\n",
        " [39] us-west3\n",
        " [40] us-west4\n",
        " [41] cancel\n",
        "Please enter numeric choice or text value (must exactly match list item):  32\n",
        "\n",
        "To make this the default region, run `gcloud config set run/region us-central1`.\n",
        "\n",
        "This command is equivalent to running `gcloud builds submit --pack image=[IMAGE] .` and `gcloud run deploy lab03-2-brianmethodicalcompany --image [IMAGE]`\n",
        "\n",
        "Allow unauthenticated invocations to [lab03-2-brianmethodicalcompany] (y/N)?  y\n",
        "\n",
        "Building using Buildpacks and deploying container to Cloud Run service [lab03-2-brianmethodicalcompany] in project [caltech-439204] region [us-central1]\n",
        "⠏ Building and deploying new service... Building Container.                                                             \n",
        "  ✓ Uploading sources...                                                                                                \n",
        "  ⠏ Building Container... Logs are available at [https://console.cloud.google.com/cloud-build/builds/cbf9e4c5-1f3c-40d6-\n",
        "  889c-c48a7a5227a7?project=240830225929].                                                                              \n",
        "  . Creating Revision...                                                                                                \n",
        "  . Routing traffic...                                                                                                  \n",
        "  . Setting IAM Policy...\n",
        "\n",
        "\n",
        "```"
      ]
    },
    {
      "cell_type": "markdown",
      "metadata": {
        "id": "jxX8W4NpPPP-"
      },
      "source": [
        "4. Once complete look for the Service URL and put in your browser"
      ]
    },
    {
      "cell_type": "markdown",
      "source": [
        "5. You should see Hello World"
      ],
      "metadata": {
        "id": "UCzTfYweRVVh"
      }
    },
    {
      "cell_type": "code",
      "source": [],
      "metadata": {
        "id": "DqfFP300RTgI"
      },
      "execution_count": null,
      "outputs": []
    }
  ],
  "metadata": {
    "kernelspec": {
      "display_name": "base",
      "language": "python",
      "name": "python3"
    },
    "language_info": {
      "codemirror_mode": {
        "name": "ipython",
        "version": 3
      },
      "file_extension": ".py",
      "mimetype": "text/x-python",
      "name": "python",
      "nbconvert_exporter": "python",
      "pygments_lexer": "ipython3",
      "version": "3.11.5"
    },
    "colab": {
      "provenance": []
    }
  },
  "nbformat": 4,
  "nbformat_minor": 0
}